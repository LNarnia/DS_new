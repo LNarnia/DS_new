{
 "cells": [
  {
   "cell_type": "markdown",
   "metadata": {},
   "source": [
    "Имеются две базы данных (два листа Excel-файла): база с ценами конкурентов (Data_Parsing) и внутренняя база компании (Data_Company).\n",
    "\n",
    "В базе парсинга есть два id, однозначно определяющие товар: producer_id и producer_color.\n",
    "\n",
    "В базе компании есть два аналогичных поля: item_id и color_id.\n",
    "\n",
    "Нам известно, что коды в двух базах отличаются наличием набора служебных символов. В базе парсинга встречаются следующие символы: _, -, ~, \\\\, /.\n",
    "\n",
    "Необходимо:\n",
    "\n",
    "Считать данные из Excel в DataFrame (Data_Parsing) и (Data_Company).\n",
    "Подтянуть к базе парсинга данные из базы компании (item_id, color_id, current_price) и сформировать столбец разницы цен в % (цена конкурента к нашей цене).\n",
    "Определить сильные отклонения от среднего в разности цен в пределах бренда-категории (то есть убрать случайные выбросы, сильно искажающие сравнение). Критерий — по вкусу, написать комментарий в коде.\n",
    "Записать новый файл Excel с базой парсинга, приклееными к ней столбцами из пункта 2 и с учётом пункта 3 (можно добавить столбец outlier и проставить Yes для выбросов)."
   ]
  },
  {
   "cell_type": "code",
   "execution_count": 1,
   "metadata": {},
   "outputs": [],
   "source": [
    "import pandas as pd"
   ]
  },
  {
   "cell_type": "code",
   "execution_count": 5,
   "metadata": {},
   "outputs": [
    {
     "name": "stdout",
     "output_type": "stream",
     "text": [
      "       brand Category      item_id color_id  current price\n",
      "0  Valentino    Shoes  aaaaa111111    black            247\n",
      "1  Valentino    Shoes  aaaaa111112    black            161\n",
      "2  Valentino    Shoes  aaaaa111113    black            234\n",
      "3  Valentino    Shoes  aaaaa111114    black            167\n",
      "4  Valentino    Shoes  aaaaa111115    black            153\n"
     ]
    }
   ],
   "source": [
    "data_company = pd.read_excel('data/Data_Company.xlsx')\n",
    "print(data_company.head())"
   ]
  },
  {
   "cell_type": "code",
   "execution_count": 7,
   "metadata": {},
   "outputs": [
    {
     "name": "stdout",
     "output_type": "stream",
     "text": [
      "       brand Category   producer_id producer_color  price\n",
      "0  Valentino    Shoes  aaaaa1111_11          black    167\n",
      "1  Valentino    Shoes  aaaaa1111_12          black    188\n",
      "2  Valentino    Shoes  aaaaa1111_13          black    184\n",
      "3  Valentino    Shoes  aaaaa1111_14        bla//ck    196\n",
      "4  Valentino    Shoes  aaaaa1111_15        bla\\\\ck    250\n"
     ]
    }
   ],
   "source": [
    "data_parsing = pd.read_excel('data/Data_TSUM.xlsx')\n",
    "print(data_parsing.head())"
   ]
  }
 ],
 "metadata": {
  "kernelspec": {
   "display_name": "Python 3",
   "language": "python",
   "name": "python3"
  },
  "language_info": {
   "codemirror_mode": {
    "name": "ipython",
    "version": 3
   },
   "file_extension": ".py",
   "mimetype": "text/x-python",
   "name": "python",
   "nbconvert_exporter": "python",
   "pygments_lexer": "ipython3",
   "version": "3.12.0"
  }
 },
 "nbformat": 4,
 "nbformat_minor": 2
}
